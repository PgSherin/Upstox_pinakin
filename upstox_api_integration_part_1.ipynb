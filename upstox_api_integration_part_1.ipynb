{
  "nbformat": 4,
  "nbformat_minor": 0,
  "metadata": {
    "colab": {
      "provenance": [],
      "authorship_tag": "ABX9TyPZxrrav3NsII773OoiN7pd",
      "include_colab_link": true
    },
    "kernelspec": {
      "name": "python3",
      "display_name": "Python 3"
    },
    "language_info": {
      "name": "python"
    }
  },
  "cells": [
    {
      "cell_type": "markdown",
      "metadata": {
        "id": "view-in-github",
        "colab_type": "text"
      },
      "source": [
        "<a href=\"https://colab.research.google.com/github/PgSherin/Upstox_pinakin/blob/main/upstox_api_integration_part_1.ipynb\" target=\"_parent\"><img src=\"https://colab.research.google.com/assets/colab-badge.svg\" alt=\"Open In Colab\"/></a>"
      ]
    },
    {
      "cell_type": "code",
      "execution_count": null,
      "metadata": {
        "id": "vY5hiNhuYIty"
      },
      "outputs": [],
      "source": []
    },
    {
      "cell_type": "code",
      "source": [
        "creds = { \"auth\": {\"client_id\" : \"9744248381\",\n",
        "                   \"client_pass\" : \"\",\n",
        "                   \"client_pin\" : \"\",\n",
        "                   \"api_key\" : \"f0683f8f-76ae-436b-935f-8a59d0f4701f\",\n",
        "                   \"api_secret\" : \"74ujekxbuk\",\n",
        "                   \"redirect_uri\" : \"https://www.futurethink.com/\",\n",
        "                   \"access token\":\"\"},\n",
        "         \"api\" :{}\n",
        "\n",
        "         }\n",
        "\n",
        "client_id = creds[\"auth\"][\"client_id\"]\n",
        "client_pass = creds[\"auth\"][\"client_pass\"]\n",
        "client_pin = creds[\"auth\"][\"client_pin\"]\n",
        "\n",
        "api_key = creds[\"auth\"][\"api_key\"]\n",
        "api_secret = creds[\"auth\"][\"api_secret\"]\n",
        "\n",
        "redirect_uri = creds[\"auth\"][\"redirect_uri\"]\n",
        "\n",
        "api_key = \"f0683f8f-76ae-436b-935f-8a59d0f4701f\"\n",
        "redirect_uri = \"https://www.futurethink.com/\"\n",
        "\n",
        "# Construct the login URL\n",
        "\n",
        "login_url = \"https://api.upstox.com/v2/login/authorization/dialog?response_type=code&client_id={}&redirect_uri={}\".format(api_key,redirect_uri)\n",
        "\n",
        "print(login_url)"
      ],
      "metadata": {
        "colab": {
          "base_uri": "https://localhost:8080/"
        },
        "id": "s3BWuB-dYNU_",
        "outputId": "4e8ac0c7-4df5-4958-d3ad-74466396e1d4"
      },
      "execution_count": null,
      "outputs": [
        {
          "output_type": "stream",
          "name": "stdout",
          "text": [
            "https://api.upstox.com/v2/login/authorization/dialog?response_type=code&client_id=f0683f8f-76ae-436b-935f-8a59d0f4701f&redirect_uri=https://www.futurethink.com/\n"
          ]
        }
      ]
    },
    {
      "cell_type": "code",
      "source": [
        "import requests\n",
        "import datetime\n",
        "\n",
        "def upstox_login(creds):\n",
        "    client_id = creds[\"auth\"][\"client_id\"]\n",
        "    client_pass = creds[\"auth\"][\"client_pass\"]\n",
        "    client_pin = creds[\"auth\"][\"client_pin\"]\n",
        "    api_key = creds[\"auth\"][\"api_key\"]\n",
        "    api_secret = creds[\"auth\"][\"api_secret\"]\n",
        "    redirect_uri = creds[\"auth\"][\"redirect_uri\"]\n",
        "\n",
        "    login_url = f\"https://api.upstox.com/v2/login/authorization/dialog?response_type=code&client_id={api_key}&redirect_uri={redirect_uri}\"\n",
        "    print(f\"Visit this URL: {login_url}. Then, Paste the code from the redirect browser\")\n",
        "    auth_code = input(\"Paste the code from the redirect browser Here: \")\n",
        "\n",
        "    # API endpoint URL\n",
        "    url = 'https://api.upstox.com/v2/login/authorization/token'\n",
        "\n",
        "    # Request headers\n",
        "    headers = {\n",
        "        'accept': 'application/json',\n",
        "        'api-Version': '2.0',\n",
        "        'Content-Type': 'application/x-www-form-urlencoded'\n",
        "    }\n",
        "\n",
        "    # Request Data\n",
        "    data = {\n",
        "        'code': auth_code,\n",
        "        'client_id': client_id,\n",
        "        'client_secret': api_secret,\n",
        "        'redirect_uri': redirect_uri,\n",
        "        'grant_type': 'authorization_code',\n",
        "    }\n",
        "\n",
        "    # Make the POST request\n",
        "    response = requests.post(url, headers=headers, data=data)\n",
        "\n",
        "    # Check the response\n",
        "    if response.status_code == 200:\n",
        "        # Request was successful\n",
        "        print(\"Access Token:\", response.json().get('access_token'))\n",
        "        creds[\"auth\"][\"access_token\"] = response.json().get('access_token')\n",
        "        creds[\"auth\"][\"access_token_headers\"] = {\n",
        "            'accept': 'application/json',\n",
        "            'Api-Version': '2.0',\n",
        "            'Authorization': f'Bearer {creds[\"auth\"][\"access_token\"]}'\n",
        "        }\n",
        "        print(\"Logged in:\", creds[\"auth\"][\"client_id\"])\n",
        "    else:\n",
        "        # Request failed\n",
        "        print(\"Error:\", response.status_code, response.text)\n",
        "        print(\"Unable to login in:\", creds[\"auth\"][\"client_id\"])\n",
        "\n",
        "    creds[\"api\"][\"last_updated\"] = datetime.datetime.now().strftime('%H:%M:%S')\n",
        "    creds[\"api\"][\"last_function\"] = \"login\"\n",
        "    return creds\n",
        "\n",
        "creds = upstox_login(creds)\n",
        "creds\n",
        "\n"
      ],
      "metadata": {
        "colab": {
          "base_uri": "https://localhost:8080/"
        },
        "id": "_NzWSQi8YJxR",
        "outputId": "22b5e487-b0cf-4842-8de0-83135c048054"
      },
      "execution_count": null,
      "outputs": [
        {
          "output_type": "stream",
          "name": "stdout",
          "text": [
            "Visit this URL: https://api.upstox.com/v2/login/authorization/dialog?response_type=code&client_id=f0683f8f-76ae-436b-935f-8a59d0f4701f&redirect_uri=https://www.futurethink.com/. Then, Paste the code from the redirect browser\n",
            "Paste the code from the redirect browser Here: ZiyPQF\n",
            "Error: 401 {\"status\":\"error\",\"errors\":[{\"errorCode\":\"UDAPI100069\",\"message\":\"Check your 'client_id' and 'client_secret'; one or both are incorrect.\",\"propertyPath\":null,\"invalidValue\":null,\"error_code\":\"UDAPI100069\",\"property_path\":null,\"invalid_value\":null}]}\n",
            "Unable to login in: 9744248381\n"
          ]
        },
        {
          "output_type": "execute_result",
          "data": {
            "text/plain": [
              "{'auth': {'client_id': '9744248381',\n",
              "  'client_pass': '',\n",
              "  'client_pin': '',\n",
              "  'api_key': 'f0683f8f-76ae-436b-935f-8a59d0f4701f',\n",
              "  'api_secret': '74ujekxbuk',\n",
              "  'redirect_uri': 'https://www.futurethink.com/',\n",
              "  'access token': ''},\n",
              " 'api': {'last_updated': '17:53:15', 'last_function': 'login'}}"
            ]
          },
          "metadata": {},
          "execution_count": 5
        }
      ]
    }
  ]
}